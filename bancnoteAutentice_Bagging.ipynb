{
 "cells": [
  {
   "cell_type": "markdown",
   "metadata": {},
   "source": [
    "# Bagging"
   ]
  },
  {
   "cell_type": "code",
   "execution_count": 87,
   "metadata": {},
   "outputs": [],
   "source": [
    "import pandas as pd\n",
    "from sklearn.model_selection import cross_val_score\n",
    "from sklearn.ensemble import BaggingClassifier\n",
    "from sklearn.tree import DecisionTreeClassifier\n",
    "from sklearn.ensemble import RandomForestClassifier\n",
    "from sklearn.ensemble import ExtraTreesClassifier\n",
    "from sklearn.model_selection import *\n",
    "from sklearn import metrics\n",
    "from sklearn.metrics import *\n",
    "\n",
    "#Incarcare dataset\n",
    "input_file = \"data_banknote_authentication.txt\"\n",
    "data = pd.read_csv(input_file, header = 0)\n",
    "\n",
    "array = data.values\n",
    "X = array[:,0:4]\n",
    "Y = array[:,4]\n",
    "data\n",
    "seed = 7\n",
    "num_trees = 30"
   ]
  },
  {
   "cell_type": "code",
   "execution_count": 88,
   "metadata": {},
   "outputs": [
    {
     "data": {
      "text/html": [
       "<div>\n",
       "<style scoped>\n",
       "    .dataframe tbody tr th:only-of-type {\n",
       "        vertical-align: middle;\n",
       "    }\n",
       "\n",
       "    .dataframe tbody tr th {\n",
       "        vertical-align: top;\n",
       "    }\n",
       "\n",
       "    .dataframe thead th {\n",
       "        text-align: right;\n",
       "    }\n",
       "</style>\n",
       "<table border=\"1\" class=\"dataframe\">\n",
       "  <thead>\n",
       "    <tr style=\"text-align: right;\">\n",
       "      <th></th>\n",
       "      <th>WaveletVar</th>\n",
       "      <th>WaveletSkew</th>\n",
       "      <th>WaveletKurt</th>\n",
       "      <th>ImgEntropy</th>\n",
       "      <th>Authenticity</th>\n",
       "    </tr>\n",
       "  </thead>\n",
       "  <tbody>\n",
       "    <tr>\n",
       "      <th>0</th>\n",
       "      <td>4.54590</td>\n",
       "      <td>8.1674</td>\n",
       "      <td>-2.45860</td>\n",
       "      <td>-1.46210</td>\n",
       "      <td>0</td>\n",
       "    </tr>\n",
       "    <tr>\n",
       "      <th>1</th>\n",
       "      <td>3.86600</td>\n",
       "      <td>-2.6383</td>\n",
       "      <td>1.92420</td>\n",
       "      <td>0.10645</td>\n",
       "      <td>0</td>\n",
       "    </tr>\n",
       "    <tr>\n",
       "      <th>2</th>\n",
       "      <td>3.45660</td>\n",
       "      <td>9.5228</td>\n",
       "      <td>-4.01120</td>\n",
       "      <td>-3.59440</td>\n",
       "      <td>0</td>\n",
       "    </tr>\n",
       "    <tr>\n",
       "      <th>3</th>\n",
       "      <td>0.32924</td>\n",
       "      <td>-4.4552</td>\n",
       "      <td>4.57180</td>\n",
       "      <td>-0.98880</td>\n",
       "      <td>0</td>\n",
       "    </tr>\n",
       "    <tr>\n",
       "      <th>4</th>\n",
       "      <td>4.36840</td>\n",
       "      <td>9.6718</td>\n",
       "      <td>-3.96060</td>\n",
       "      <td>-3.16250</td>\n",
       "      <td>0</td>\n",
       "    </tr>\n",
       "    <tr>\n",
       "      <th>...</th>\n",
       "      <td>...</td>\n",
       "      <td>...</td>\n",
       "      <td>...</td>\n",
       "      <td>...</td>\n",
       "      <td>...</td>\n",
       "    </tr>\n",
       "    <tr>\n",
       "      <th>1365</th>\n",
       "      <td>-2.41000</td>\n",
       "      <td>3.7433</td>\n",
       "      <td>-0.40215</td>\n",
       "      <td>-1.29530</td>\n",
       "      <td>1</td>\n",
       "    </tr>\n",
       "    <tr>\n",
       "      <th>1366</th>\n",
       "      <td>0.40614</td>\n",
       "      <td>1.3492</td>\n",
       "      <td>-1.45010</td>\n",
       "      <td>-0.55949</td>\n",
       "      <td>1</td>\n",
       "    </tr>\n",
       "    <tr>\n",
       "      <th>1367</th>\n",
       "      <td>-1.38870</td>\n",
       "      <td>-4.8773</td>\n",
       "      <td>6.47740</td>\n",
       "      <td>0.34179</td>\n",
       "      <td>1</td>\n",
       "    </tr>\n",
       "    <tr>\n",
       "      <th>1368</th>\n",
       "      <td>-3.75030</td>\n",
       "      <td>-13.4586</td>\n",
       "      <td>17.59320</td>\n",
       "      <td>-2.77710</td>\n",
       "      <td>1</td>\n",
       "    </tr>\n",
       "    <tr>\n",
       "      <th>1369</th>\n",
       "      <td>-3.56370</td>\n",
       "      <td>-8.3827</td>\n",
       "      <td>12.39300</td>\n",
       "      <td>-1.28230</td>\n",
       "      <td>1</td>\n",
       "    </tr>\n",
       "  </tbody>\n",
       "</table>\n",
       "<p>1370 rows × 5 columns</p>\n",
       "</div>"
      ],
      "text/plain": [
       "      WaveletVar  WaveletSkew  WaveletKurt  ImgEntropy  Authenticity\n",
       "0        4.54590       8.1674     -2.45860    -1.46210             0\n",
       "1        3.86600      -2.6383      1.92420     0.10645             0\n",
       "2        3.45660       9.5228     -4.01120    -3.59440             0\n",
       "3        0.32924      -4.4552      4.57180    -0.98880             0\n",
       "4        4.36840       9.6718     -3.96060    -3.16250             0\n",
       "...          ...          ...          ...         ...           ...\n",
       "1365    -2.41000       3.7433     -0.40215    -1.29530             1\n",
       "1366     0.40614       1.3492     -1.45010    -0.55949             1\n",
       "1367    -1.38870      -4.8773      6.47740     0.34179             1\n",
       "1368    -3.75030     -13.4586     17.59320    -2.77710             1\n",
       "1369    -3.56370      -8.3827     12.39300    -1.28230             1\n",
       "\n",
       "[1370 rows x 5 columns]"
      ]
     },
     "execution_count": 88,
     "metadata": {},
     "output_type": "execute_result"
    }
   ],
   "source": [
    "data"
   ]
  },
  {
   "cell_type": "markdown",
   "metadata": {},
   "source": [
    "# Random Forest Classification"
   ]
  },
  {
   "cell_type": "code",
   "execution_count": 90,
   "metadata": {},
   "outputs": [
    {
     "name": "stdout",
     "output_type": "stream",
     "text": [
      "0.994890510948905\n",
      "Rezultate asteptate:[0,1] | Rezultate obtinute: [0. 1.]\n",
      "Y_prediction: [1. 1. 1. 0. 0. 0. 0. 1. 1. 1. 0. 0. 1. 0. 0. 0. 1. 1. 0. 0. 1. 0. 0. 1.\n",
      " 0. 0. 0. 0. 0. 0. 1. 0. 1. 0. 0. 0. 0. 1. 0. 1. 1. 1. 0. 0. 1. 1. 0. 0.\n",
      " 1. 0. 0. 1. 0. 1. 1. 0. 1. 0. 0. 1. 1. 0. 0. 0. 0. 1. 1. 1. 1. 0. 1. 0.\n",
      " 1. 1. 0. 1. 0. 0. 0. 0. 1. 0. 0. 0. 1. 1. 0. 0. 0. 0. 0. 1. 1. 1. 1. 1.\n",
      " 0. 0. 1. 0. 0. 1. 0. 0. 0. 1. 0. 1. 1. 1. 0. 1. 0. 0. 0. 0. 0. 0. 1. 1.\n",
      " 0. 0. 0. 1. 1. 1. 1. 0. 1. 0. 0. 0. 1. 0. 0. 1. 0. 0. 0. 0. 1. 0. 1. 1.\n",
      " 0. 0. 1. 0. 0. 1. 0. 0. 1. 0. 1. 0. 0. 0. 1. 0. 0. 1. 0. 1. 0. 1. 1. 0.\n",
      " 1. 1. 0. 0. 1. 1. 1. 0. 0. 0. 1. 1. 0. 1. 0. 0. 0. 1. 1. 1. 1. 0. 0. 0.\n",
      " 1. 0. 1. 0. 0. 0. 1. 1. 0. 0. 0. 0. 0. 0. 0. 0. 1. 0. 1. 1. 1. 0. 0. 1.\n",
      " 1. 0. 0. 1. 0. 1. 0. 0. 0. 1. 1. 0. 0. 0. 0. 0. 1. 0. 1. 1. 0. 0. 1. 1.\n",
      " 0. 1. 1. 0. 1. 1. 1. 0. 0. 0. 0. 0. 1. 1. 1. 1. 0. 1. 1. 1. 0. 0. 0. 1.\n",
      " 0. 0. 1. 1. 1. 1. 0. 0. 1. 0.]\n",
      "Y_test: [1. 1. 1. 0. 0. 0. 0. 1. 1. 1. 0. 0. 1. 0. 0. 0. 1. 1. 0. 0. 1. 0. 0. 1.\n",
      " 0. 0. 0. 0. 0. 0. 1. 0. 1. 0. 0. 0. 0. 1. 0. 1. 1. 1. 0. 0. 1. 1. 0. 0.\n",
      " 1. 0. 0. 1. 0. 1. 1. 0. 1. 0. 0. 1. 1. 0. 0. 0. 0. 1. 1. 1. 1. 0. 1. 0.\n",
      " 1. 1. 0. 1. 0. 0. 0. 0. 1. 0. 0. 0. 1. 1. 0. 0. 0. 0. 0. 1. 1. 1. 1. 1.\n",
      " 0. 0. 1. 0. 0. 1. 0. 0. 0. 1. 0. 1. 1. 1. 0. 1. 0. 0. 0. 0. 0. 0. 1. 1.\n",
      " 0. 0. 0. 1. 1. 1. 1. 0. 1. 0. 0. 0. 1. 0. 0. 1. 0. 0. 0. 0. 1. 0. 0. 1.\n",
      " 0. 0. 1. 0. 0. 1. 0. 0. 1. 0. 1. 0. 0. 0. 1. 0. 0. 1. 0. 1. 0. 1. 1. 0.\n",
      " 1. 1. 0. 0. 1. 1. 1. 0. 0. 0. 1. 1. 0. 1. 0. 0. 0. 1. 1. 1. 1. 0. 0. 0.\n",
      " 1. 0. 1. 0. 0. 0. 1. 1. 0. 0. 0. 0. 0. 0. 0. 0. 1. 0. 1. 1. 1. 0. 0. 1.\n",
      " 1. 0. 0. 1. 0. 1. 0. 0. 0. 1. 1. 0. 0. 0. 0. 0. 1. 0. 1. 1. 0. 0. 1. 1.\n",
      " 0. 1. 1. 0. 1. 0. 1. 0. 0. 0. 0. 0. 1. 1. 1. 1. 0. 1. 1. 1. 0. 0. 0. 1.\n",
      " 0. 0. 1. 1. 1. 1. 0. 0. 1. 0.]\n",
      "Accuracy: 0.9927007299270073\n",
      "Confusion matrix is :  [[155   2]\n",
      " [  0 117]]\n",
      "Recall_score is : 1.0\n",
      "Precision Score is :  0.9831932773109243\n",
      "f1 Score is :  0.9915254237288135\n",
      "Cross-validation score :  [0.99270073 0.99270073 0.98905109 0.99635036 0.99635036]\n"
     ]
    }
   ],
   "source": [
    "#3. Random Forest Classification\n",
    "from sklearn.metrics import f1_score\n",
    "\n",
    "\n",
    "num_trees = 100\n",
    "max_features = 3\n",
    "rmodel = RandomForestClassifier(n_estimators=num_trees)\n",
    "results2 = cross_val_score(rmodel, X, Y, cv=5)\n",
    "print(results2.mean())\n",
    "\n",
    "#1. Impartire dataset in date de train + test\n",
    "X_train, X_test, Y_train, Y_test = train_test_split(X, Y, test_size = 0.20, random_state = 0)\n",
    "#Fit\n",
    "rmodel.fit(X_train,Y_train)\n",
    "\n",
    "#2. Testare estimator pe 2 exemple concrete\n",
    "#Predict\n",
    "my_tests = [[3.6216,8.6661,-2.8073,-0.44699],[-2.5419,-0.65804,2.6842,1.1952]]\n",
    "Y_prediction_test= rmodel.predict(my_tests)\n",
    "print(\"Rezultate asteptate:[0,1] | Rezultate obtinute:\",Y_prediction_test)\n",
    "\n",
    "#3.Afisare rezultate\n",
    "Y_prediction = rmodel.predict(X_test)\n",
    "print(\"Y_prediction:\",Y_prediction)\n",
    "print(\"Y_test:\",Y_test)\n",
    "\n",
    "\n",
    "#4. Testare 5 metrici pentru clasificare\n",
    "print(\"Accuracy:\",metrics.accuracy_score(Y_test, Y_prediction))\n",
    "confusion_mat = confusion_matrix(Y_test, Y_prediction)\n",
    "print(\"Confusion matrix is : \", confusion_mat)\n",
    "recall_show = recall_score(Y_test, Y_prediction)\n",
    "print(\"Recall_score is :\",recall_show)\n",
    "precision_show = precision_score(Y_test, Y_prediction) \n",
    "print(\"Precision Score is : \", precision_show)\n",
    "f1_score = f1_score(Y_test, Y_prediction)\n",
    "print(\"f1 Score is : \",f1_score)\n",
    "\n",
    "#Cross-validation-evaluare scor\n",
    "from sklearn.model_selection import cross_val_score\n",
    "print(\"Cross-validation score : \",cross_val_score(rmodel, X,Y,cv=5) )"
   ]
  },
  {
   "cell_type": "markdown",
   "metadata": {},
   "source": [
    "# Data exploration"
   ]
  },
  {
   "cell_type": "code",
   "execution_count": 78,
   "metadata": {
    "scrolled": true
   },
   "outputs": [
    {
     "name": "stderr",
     "output_type": "stream",
     "text": [
      "No artists with labels found to put in legend.  Note that artists whose label start with an underscore are ignored when legend() is called with no argument.\n"
     ]
    },
    {
     "name": "stdout",
     "output_type": "stream",
     "text": [
      "Accuracy: 1.0\n",
      "['WaveletVar', 'WaveletSkew', 'WaveletKurt', 'ImgEntropy']\n",
      "WaveletVar     0.549618\n",
      "WaveletSkew    0.243549\n",
      "WaveletKurt    0.149827\n",
      "ImgEntropy     0.057006\n",
      "dtype: float64\n"
     ]
    },
    {
     "data": {
      "image/png": "[encoded data removed]",
      "text/plain": [
       "<Figure size 432x288 with 1 Axes>"
      ]
     },
     "metadata": {
      "needs_background": "light"
     },
     "output_type": "display_data"
    }
   ],
   "source": [
    "from sklearn import datasets\n",
    "from sklearn.model_selection import train_test_split\n",
    "from sklearn import metrics\n",
    "from sklearn.ensemble import RandomForestClassifier\n",
    "import pandas as pd\n",
    "\n",
    "#Incarcare dataset\n",
    "input_file = \"data_banknote_authentication.txt\"\n",
    "data = pd.read_csv(input_file, header = 0)\n",
    "\n",
    "array = data.values\n",
    "X = array[:,0:4]\n",
    "Y = array[:,4]\n",
    "data\n",
    "\n",
    "# Impartire dataset train+test\n",
    "X_train, X_test, Y_train, Y_test = train_test_split(X, Y, test_size=0.3) # 70% training and 30% test\n",
    "\n",
    "#Creare Gaussian Classifier\n",
    "clf=RandomForestClassifier(n_estimators=100)\n",
    "\n",
    "#Antrenare model\n",
    "clf.fit(X_train,Y_train)\n",
    "#Predict\n",
    "Y_pred=clf.predict(X_test)\n",
    "\n",
    "print(\"Accuracy:\",metrics.accuracy_score(Y_test, Y_pred))\n",
    "print(list(data.columns)[0:4])\n",
    "\n",
    "\n",
    "import pandas as pd\n",
    "feature_imp = pd.Series(clf.feature_importances_,index=list(data.columns)[0:4]).sort_values(ascending=False)\n",
    "print(feature_imp)\n",
    "\n",
    "import matplotlib.pyplot as plt\n",
    "import seaborn as sns\n",
    "\n",
    "\n",
    "sns.barplot(x=feature_imp, y=feature_imp.index)\n",
    "plt.xlabel('Feature Importance Score')\n",
    "plt.ylabel('Features')\n",
    "plt.title(\"Visualizing Important Features\")\n",
    "plt.legend()\n",
    "plt.show()"
   ]
  },
  {
   "cell_type": "code",
   "execution_count": 82,
   "metadata": {},
   "outputs": [
    {
     "data": {
      "text/plain": [
       "{'criterion': 'entropy', 'max_depth': 8, 'n_estimators': 9}"
      ]
     },
     "execution_count": 82,
     "metadata": {},
     "output_type": "execute_result"
    }
   ],
   "source": [
    "#GridSearch pentru imbunatatire rezultate-cautarea celor mai bune valori pentru parametri\n",
    "from sklearn import datasets\n",
    "from sklearn.model_selection import GridSearchCV\n",
    "parameters = {'n_estimators':range(5,15),'criterion':('gini', 'entropy') ,'max_depth':range(5,10)}\n",
    "model2 = RandomForestClassifier()\n",
    "clf_random = GridSearchCV(model2, parameters)\n",
    "clf_random.fit(X, Y)\n",
    "clf_random.best_params_"
   ]
  },
  {
   "cell_type": "code",
   "execution_count": 83,
   "metadata": {},
   "outputs": [
    {
     "name": "stdout",
     "output_type": "stream",
     "text": [
      "Y:  [0. 0. 0. ... 1. 1. 1.]\n",
      "Y_prediction: [1. 1. 1. 0. 1. 0. 0. 1. 0. 0. 0. 1. 1. 0. 0. 0. 0. 0. 1. 1. 0. 1. 1. 0.\n",
      " 1. 1. 0. 0. 0. 1. 0. 1. 0. 0. 1. 0. 1. 0. 0. 0. 0. 0. 1. 0. 0. 1. 0. 1.\n",
      " 1. 0. 0. 1. 1. 0. 1. 0. 0. 0. 1. 0. 1. 0. 0. 1. 1. 0. 1. 1. 0. 0. 0. 0.\n",
      " 0. 0. 0. 1. 0. 1. 1. 0. 0. 0. 1. 1. 1. 0. 0. 1. 0. 1. 0. 0. 1. 1. 1. 1.\n",
      " 1. 0. 1. 1. 0. 1. 0. 0. 1. 0. 1. 1. 1. 0. 1. 1. 1. 0. 1. 0. 0. 0. 0. 0.\n",
      " 0. 1. 1. 0. 1. 0. 0. 1. 0. 0. 0. 1. 1. 0. 1. 1. 1. 0. 0. 1. 1. 0. 1. 0.\n",
      " 1. 0. 0. 1. 1. 0. 1. 1. 0. 1. 1. 1. 1. 1. 1. 0. 0. 1. 0. 1. 1. 1. 1. 1.\n",
      " 0. 1. 0. 1. 0. 0. 0. 1. 1. 1. 0. 0. 1. 1. 0. 0. 1. 0. 0. 1. 0. 0. 0. 1.\n",
      " 1. 0. 0. 1. 1. 1. 0. 0. 1. 1. 1. 1. 1. 0. 0. 1. 0. 1. 1. 1. 0. 1. 0. 0.\n",
      " 0. 0. 1. 1. 0. 1. 1. 0. 0. 0. 0. 0. 0. 1. 1. 0. 1. 1. 1. 0. 0. 0. 1. 1.\n",
      " 1. 0. 1. 0. 0. 0. 1. 1. 0. 1. 1. 0. 1. 1. 1. 0. 0. 1. 0. 1. 0. 0. 0. 1.\n",
      " 1. 0. 1. 0. 0. 0. 0. 1. 0. 1. 1. 0. 0. 1. 0. 0. 0. 1. 0. 0. 1. 0. 0. 0.\n",
      " 1. 0. 1. 1. 1. 0. 0. 0. 1. 0. 1. 1. 0. 1. 1. 1. 0. 1. 1. 1. 0. 0. 0. 0.\n",
      " 1. 0. 0. 0. 0. 1. 1. 0. 0. 0. 0. 0. 1. 0. 1. 0. 1. 1. 1. 1. 0. 0. 0. 1.\n",
      " 1. 1. 1. 0. 0. 0. 1. 0. 0. 0. 1. 0. 1. 0. 0. 1. 1. 0. 1. 1. 1. 0. 0. 1.\n",
      " 1. 0. 0. 0. 1. 0. 0. 0. 0. 0. 0. 0. 0. 0. 0. 1. 1. 0. 1. 1. 0. 1. 0. 0.\n",
      " 0. 0. 1. 1. 1. 0. 0. 1. 0. 0. 0. 0. 0. 0. 1. 0. 0. 1. 1. 0. 0. 0. 1. 1.\n",
      " 0. 1. 0.]\n",
      "Y_test: [1. 1. 1. 0. 1. 0. 0. 1. 0. 0. 0. 1. 1. 0. 0. 0. 0. 0. 1. 1. 0. 1. 1. 0.\n",
      " 1. 1. 0. 0. 0. 1. 0. 1. 0. 0. 1. 0. 1. 0. 0. 0. 0. 0. 1. 0. 0. 1. 0. 1.\n",
      " 1. 0. 0. 1. 1. 0. 1. 0. 0. 0. 1. 0. 1. 0. 0. 1. 1. 0. 1. 1. 0. 0. 0. 0.\n",
      " 0. 0. 0. 1. 0. 1. 1. 0. 0. 0. 1. 1. 1. 0. 0. 1. 0. 1. 0. 0. 1. 1. 1. 1.\n",
      " 1. 0. 1. 1. 0. 1. 0. 0. 1. 0. 1. 1. 1. 0. 1. 1. 1. 0. 1. 0. 0. 0. 0. 0.\n",
      " 0. 1. 1. 0. 1. 0. 0. 1. 0. 0. 0. 1. 1. 0. 1. 1. 1. 0. 0. 1. 1. 0. 1. 0.\n",
      " 1. 0. 0. 1. 1. 0. 1. 1. 0. 1. 1. 1. 1. 1. 1. 0. 0. 1. 0. 1. 1. 1. 1. 1.\n",
      " 0. 1. 0. 1. 0. 0. 0. 1. 1. 1. 0. 0. 1. 1. 0. 0. 1. 0. 0. 1. 0. 0. 0. 1.\n",
      " 1. 0. 0. 1. 1. 1. 0. 0. 1. 0. 1. 1. 1. 0. 0. 1. 0. 1. 1. 1. 0. 1. 0. 0.\n",
      " 0. 0. 1. 1. 0. 1. 1. 0. 0. 0. 0. 0. 0. 1. 1. 0. 1. 1. 1. 0. 0. 0. 1. 1.\n",
      " 1. 0. 1. 0. 0. 0. 1. 1. 0. 1. 1. 0. 1. 1. 1. 0. 0. 1. 0. 1. 0. 0. 0. 1.\n",
      " 1. 0. 1. 0. 0. 0. 0. 1. 0. 1. 1. 0. 0. 1. 0. 0. 0. 1. 0. 0. 1. 0. 0. 0.\n",
      " 1. 0. 1. 1. 1. 0. 0. 0. 1. 0. 1. 1. 0. 1. 1. 1. 0. 1. 1. 1. 0. 0. 0. 0.\n",
      " 1. 0. 0. 0. 0. 1. 1. 0. 0. 0. 0. 0. 1. 0. 1. 0. 1. 1. 1. 1. 0. 0. 0. 1.\n",
      " 1. 1. 1. 0. 0. 0. 1. 0. 0. 0. 1. 0. 1. 0. 0. 1. 1. 0. 1. 1. 1. 0. 0. 1.\n",
      " 1. 0. 0. 0. 1. 0. 0. 0. 0. 0. 0. 0. 0. 0. 0. 1. 1. 0. 1. 1. 0. 1. 0. 0.\n",
      " 0. 0. 1. 1. 1. 0. 0. 1. 0. 0. 0. 0. 0. 0. 1. 0. 0. 1. 1. 0. 0. 0. 1. 1.\n",
      " 0. 1. 0.]\n",
      "Metricile dupa setarea parametrilor optimi:\n",
      "Accuracy: 0.9975669099756691\n",
      "Confusion matrix is :  [[221   1]\n",
      " [  0 189]]\n",
      "Recall_score is : 1.0\n",
      "Precision Score is :  0.9947368421052631\n",
      "f1 Score is :  0.9973614775725593\n"
     ]
    }
   ],
   "source": [
    "from sklearn.metrics import f1_score\n",
    "#Schimbare parametrii pentru a imbunatati performanta\n",
    "#Valorile pentru parametrii sunt cei gasiti de GridSearch\n",
    "\n",
    "clf_random.fit(X_train,Y_train)\n",
    "Y_prediction = clf_random.predict(X_test)\n",
    "print(\"Y: \",Y)\n",
    "print(\"Y_prediction:\",Y_prediction)\n",
    "print(\"Y_test:\",Y_test)\n",
    "print(\"Metricile dupa setarea parametrilor optimi:\")\n",
    "print(\"Accuracy:\",metrics.accuracy_score(Y_test, Y_prediction))\n",
    "\n",
    "confusion_mat = confusion_matrix(Y_test, Y_prediction)\n",
    "print(\"Confusion matrix is : \", confusion_mat)\n",
    "\n",
    "recall_show = recall_score(Y_test, Y_prediction) \n",
    "print(\"Recall_score is :\",recall_show)\n",
    "\n",
    "precision_show = precision_score(Y_test, Y_prediction) \n",
    "print(\"Precision Score is : \", precision_show)\n",
    "\n",
    "f1_score = f1_score(Y_test, Y_prediction)\n",
    "print(\"f1 Score is : \",f1_score)"
   ]
  },
  {
   "cell_type": "markdown",
   "metadata": {},
   "source": [
    "# ExtraTrees Classifier"
   ]
  },
  {
   "cell_type": "code",
   "execution_count": 91,
   "metadata": {},
   "outputs": [
    {
     "name": "stdout",
     "output_type": "stream",
     "text": [
      "0.9985401459854014\n",
      "Prediction_test :  [0. 1.]\n",
      "Accuracy: 0.9927007299270073\n",
      "Confusion matrix is :  [[155   2]\n",
      " [  0 117]]\n",
      "Recall_score is : 1.0\n",
      "Precision Score is :  0.9831932773109243\n",
      "f1 Score is :  0.9915254237288135\n",
      "Cross-validation score :  [1.         1.         0.99635036 0.99635036 1.        ]\n"
     ]
    }
   ],
   "source": [
    "#4. ExtraTrees Classification\n",
    "ext = ExtraTreesClassifier(n_estimators=10, max_depth=None, min_samples_split=2, random_state=0)\n",
    "scores = cross_val_score(ext, X, Y, cv=5)\n",
    "print(scores.mean())\n",
    "\n",
    "X_train, X_test, Y_train, Y_test = train_test_split(X, Y, test_size = 0.20, random_state = 0)\n",
    "ext.fit(X_train,Y_train)\n",
    "\n",
    "#2. Testare estimator pe 2 exemple concrete\n",
    "my_tests = [[3.6216,8.6661,-2.8073,-0.44699],[-2.5419,-0.65804,2.6842,1.1952]]\n",
    "Y_prediction_test= ext.predict(my_tests)\n",
    "print(\"Prediction_test : \",Y_prediction_test)\n",
    "\n",
    "from sklearn.metrics import f1_score\n",
    "print(\"Accuracy:\",metrics.accuracy_score(Y_test, Y_prediction))\n",
    "confusion_mat = confusion_matrix(Y_test, Y_prediction)\n",
    "print(\"Confusion matrix is : \", confusion_mat)\n",
    "recall_show = recall_score(Y_test, Y_prediction) # calculates the fraction of positive samples predicted correctly\n",
    "print(\"Recall_score is :\",recall_show)\n",
    "precision_show = precision_score(Y_test, Y_prediction) # calculates the fraction of predicted positives samples that are actually positive\n",
    "print(\"Precision Score is : \", precision_show)\n",
    "f1_score = f1_score(Y_test, Y_prediction)\n",
    "print(\"f1 Score is : \",f1_score)\n",
    "\n",
    "#Cross-validation-evaluare scor\n",
    "from sklearn.model_selection import cross_val_score\n",
    "print(\"Cross-validation score : \",cross_val_score(ext, X,Y,cv=5) )"
   ]
  },
  {
   "cell_type": "code",
   "execution_count": 84,
   "metadata": {},
   "outputs": [
    {
     "data": {
      "text/plain": [
       "{'criterion': 'gini', 'max_depth': 9, 'n_estimators': 12}"
      ]
     },
     "execution_count": 84,
     "metadata": {},
     "output_type": "execute_result"
    }
   ],
   "source": [
    "#GridSearch pentru imbunatatire rezultate-cautarea celor mai bune valori pentru parametri\n",
    "from sklearn import datasets\n",
    "from sklearn.model_selection import GridSearchCV\n",
    "parameters = {'n_estimators':range(5,15),'criterion':('gini', 'entropy') ,'max_depth':range(5,10)}\n",
    "model2 = ExtraTreesClassifier()\n",
    "clf_extra = GridSearchCV(model2, parameters)\n",
    "clf_extra.fit(X, Y)\n",
    "clf_extra.best_params_"
   ]
  },
  {
   "cell_type": "code",
   "execution_count": 85,
   "metadata": {},
   "outputs": [
    {
     "name": "stdout",
     "output_type": "stream",
     "text": [
      "Y:  [0. 0. 0. ... 1. 1. 1.]\n",
      "Y_prediction: [1. 1. 1. 0. 1. 0. 0. 1. 0. 0. 0. 1. 1. 0. 0. 0. 0. 0. 1. 1. 0. 1. 1. 0.\n",
      " 1. 1. 0. 0. 0. 1. 0. 1. 0. 0. 1. 0. 1. 0. 0. 0. 0. 0. 1. 0. 0. 1. 0. 1.\n",
      " 1. 0. 0. 1. 1. 0. 1. 0. 0. 0. 1. 0. 1. 0. 0. 1. 1. 0. 1. 1. 0. 0. 0. 0.\n",
      " 0. 0. 0. 1. 0. 1. 1. 0. 0. 0. 1. 1. 1. 0. 0. 0. 0. 1. 0. 0. 1. 1. 1. 1.\n",
      " 1. 0. 1. 1. 0. 1. 0. 0. 1. 0. 1. 1. 1. 0. 1. 1. 1. 0. 1. 0. 0. 0. 0. 0.\n",
      " 0. 1. 1. 0. 1. 0. 0. 1. 0. 0. 0. 1. 1. 0. 1. 1. 1. 0. 0. 1. 1. 0. 1. 0.\n",
      " 1. 0. 0. 1. 1. 0. 1. 1. 0. 1. 1. 1. 1. 1. 1. 0. 0. 1. 0. 1. 1. 1. 1. 1.\n",
      " 0. 1. 0. 1. 0. 0. 0. 1. 1. 1. 0. 0. 1. 1. 0. 0. 1. 0. 0. 1. 0. 0. 0. 1.\n",
      " 1. 0. 0. 1. 1. 1. 0. 0. 1. 0. 1. 1. 1. 0. 0. 1. 0. 1. 1. 1. 0. 1. 0. 0.\n",
      " 0. 0. 1. 1. 0. 1. 1. 0. 0. 0. 0. 0. 0. 1. 1. 0. 1. 1. 1. 0. 0. 0. 1. 1.\n",
      " 1. 0. 1. 0. 0. 0. 1. 1. 0. 1. 1. 0. 1. 1. 1. 0. 0. 1. 0. 1. 0. 0. 0. 1.\n",
      " 1. 0. 1. 0. 0. 0. 0. 1. 0. 1. 1. 0. 0. 1. 0. 0. 0. 1. 0. 0. 1. 0. 0. 0.\n",
      " 1. 0. 1. 1. 1. 0. 0. 0. 1. 0. 1. 1. 0. 1. 1. 1. 0. 1. 1. 1. 0. 0. 0. 0.\n",
      " 1. 0. 0. 0. 0. 1. 1. 0. 0. 0. 0. 0. 1. 0. 1. 0. 1. 1. 1. 1. 0. 0. 0. 1.\n",
      " 1. 1. 1. 0. 0. 0. 1. 0. 0. 0. 1. 0. 1. 0. 0. 1. 1. 0. 1. 1. 1. 0. 0. 1.\n",
      " 1. 0. 0. 0. 1. 0. 0. 0. 0. 0. 0. 0. 0. 0. 0. 1. 1. 0. 1. 1. 0. 1. 0. 0.\n",
      " 0. 0. 1. 1. 1. 0. 0. 1. 0. 0. 0. 0. 0. 0. 1. 0. 0. 1. 1. 0. 0. 0. 1. 1.\n",
      " 0. 1. 0.]\n",
      "Y_test: [1. 1. 1. 0. 1. 0. 0. 1. 0. 0. 0. 1. 1. 0. 0. 0. 0. 0. 1. 1. 0. 1. 1. 0.\n",
      " 1. 1. 0. 0. 0. 1. 0. 1. 0. 0. 1. 0. 1. 0. 0. 0. 0. 0. 1. 0. 0. 1. 0. 1.\n",
      " 1. 0. 0. 1. 1. 0. 1. 0. 0. 0. 1. 0. 1. 0. 0. 1. 1. 0. 1. 1. 0. 0. 0. 0.\n",
      " 0. 0. 0. 1. 0. 1. 1. 0. 0. 0. 1. 1. 1. 0. 0. 1. 0. 1. 0. 0. 1. 1. 1. 1.\n",
      " 1. 0. 1. 1. 0. 1. 0. 0. 1. 0. 1. 1. 1. 0. 1. 1. 1. 0. 1. 0. 0. 0. 0. 0.\n",
      " 0. 1. 1. 0. 1. 0. 0. 1. 0. 0. 0. 1. 1. 0. 1. 1. 1. 0. 0. 1. 1. 0. 1. 0.\n",
      " 1. 0. 0. 1. 1. 0. 1. 1. 0. 1. 1. 1. 1. 1. 1. 0. 0. 1. 0. 1. 1. 1. 1. 1.\n",
      " 0. 1. 0. 1. 0. 0. 0. 1. 1. 1. 0. 0. 1. 1. 0. 0. 1. 0. 0. 1. 0. 0. 0. 1.\n",
      " 1. 0. 0. 1. 1. 1. 0. 0. 1. 0. 1. 1. 1. 0. 0. 1. 0. 1. 1. 1. 0. 1. 0. 0.\n",
      " 0. 0. 1. 1. 0. 1. 1. 0. 0. 0. 0. 0. 0. 1. 1. 0. 1. 1. 1. 0. 0. 0. 1. 1.\n",
      " 1. 0. 1. 0. 0. 0. 1. 1. 0. 1. 1. 0. 1. 1. 1. 0. 0. 1. 0. 1. 0. 0. 0. 1.\n",
      " 1. 0. 1. 0. 0. 0. 0. 1. 0. 1. 1. 0. 0. 1. 0. 0. 0. 1. 0. 0. 1. 0. 0. 0.\n",
      " 1. 0. 1. 1. 1. 0. 0. 0. 1. 0. 1. 1. 0. 1. 1. 1. 0. 1. 1. 1. 0. 0. 0. 0.\n",
      " 1. 0. 0. 0. 0. 1. 1. 0. 0. 0. 0. 0. 1. 0. 1. 0. 1. 1. 1. 1. 0. 0. 0. 1.\n",
      " 1. 1. 1. 0. 0. 0. 1. 0. 0. 0. 1. 0. 1. 0. 0. 1. 1. 0. 1. 1. 1. 0. 0. 1.\n",
      " 1. 0. 0. 0. 1. 0. 0. 0. 0. 0. 0. 0. 0. 0. 0. 1. 1. 0. 1. 1. 0. 1. 0. 0.\n",
      " 0. 0. 1. 1. 1. 0. 0. 1. 0. 0. 0. 0. 0. 0. 1. 0. 0. 1. 1. 0. 0. 0. 1. 1.\n",
      " 0. 1. 0.]\n",
      "Metricile dupa setarea parametrilor optimi:\n",
      "Accuracy: 0.9975669099756691\n",
      "Confusion matrix is :  [[222   0]\n",
      " [  1 188]]\n",
      "Recall_score is : 0.9947089947089947\n",
      "Precision Score is :  1.0\n",
      "f1 Score is :  0.9973474801061007\n"
     ]
    }
   ],
   "source": [
    "from sklearn.metrics import f1_score\n",
    "#Schimbare parametrii pentru a imbunatati performanta\n",
    "#Valorile pentru parametrii sunt cei gasiti de GridSearch\n",
    "\n",
    "clf_extra.fit(X_train,Y_train)\n",
    "Y_prediction = clf_extra.predict(X_test)\n",
    "print(\"Y: \",Y)\n",
    "print(\"Y_prediction:\",Y_prediction)\n",
    "print(\"Y_test:\",Y_test)\n",
    "print(\"Metricile dupa setarea parametrilor optimi:\")\n",
    "print(\"Accuracy:\",metrics.accuracy_score(Y_test, Y_prediction))\n",
    "\n",
    "confusion_mat = confusion_matrix(Y_test, Y_prediction)\n",
    "print(\"Confusion matrix is : \", confusion_mat)\n",
    "\n",
    "recall_show = recall_score(Y_test, Y_prediction) \n",
    "print(\"Recall_score is :\",recall_show)\n",
    "\n",
    "precision_show = precision_score(Y_test, Y_prediction) \n",
    "print(\"Precision Score is : \", precision_show)\n",
    "\n",
    "f1_score = f1_score(Y_test, Y_prediction)\n",
    "print(\"f1 Score is : \",f1_score)"
   ]
  },
  {
   "cell_type": "markdown",
   "metadata": {},
   "source": [
    "# Vizualizare rezultate cu parametri diferiti"
   ]
  },
  {
   "cell_type": "code",
   "execution_count": 76,
   "metadata": {},
   "outputs": [],
   "source": [
    "#Variatia numarului de estimatori in intervalul (1-200)\n",
    "range_k = range(1,201,10)\n",
    "scoresR = {}\n",
    "scores_listR = []\n",
    "scoresE = {}\n",
    "scores_listE = []\n",
    "\n",
    "for k in range_k:\n",
    "    rmodel = RandomForestClassifier(n_estimators=k)\n",
    "    ext = ExtraTreesClassifier(n_estimators=k)\n",
    "    \n",
    "    rmodel.fit(X_train, Y_train)\n",
    "    ext.fit(X_train, Y_train)\n",
    "    Y_predictionR = rmodel.predict(X_test)\n",
    "    Y_predictionE = ext.predict(X_test)\n",
    "    \n",
    "    scoresR[k] = metrics.accuracy_score(Y_test,Y_predictionR)\n",
    "    scores_listR.append(metrics.accuracy_score(Y_test,Y_predictionR))\n",
    "    \n",
    "    scoresE[k] = metrics.accuracy_score(Y_test,Y_predictionE)\n",
    "    scores_listE.append(metrics.accuracy_score(Y_test,Y_predictionE))"
   ]
  },
  {
   "cell_type": "code",
   "execution_count": 77,
   "metadata": {},
   "outputs": [
    {
     "data": {
      "text/plain": [
       "Text(0, 0.5, 'Accuracy')"
      ]
     },
     "execution_count": 77,
     "metadata": {},
     "output_type": "execute_result"
    },
    {
     "data": {
      "image/png": "[encoded data removed]",
      "text/plain": [
       "<Figure size 432x288 with 2 Axes>"
      ]
     },
     "metadata": {
      "needs_background": "light"
     },
     "output_type": "display_data"
    }
   ],
   "source": [
    "%matplotlib inline\n",
    "import matplotlib.pyplot as plt\n",
    "\n",
    "plt.subplot(1, 2, 1)\n",
    "plt.plot(range_k,scores_listR)\n",
    "plt.title(\"RandomForest\")\n",
    "plt.xlabel(\"Number of estimators\")\n",
    "plt.ylabel(\"Accuracy\")\n",
    "\n",
    "plt.subplot(1, 2, 2)\n",
    "plt.plot(range_k,scores_listE)\n",
    "plt.title(\"ExtraTrees\")\n",
    "plt.xlabel(\"Number of estimators\")\n",
    "plt.ylabel(\"Accuracy\")"
   ]
  }
 ],
 "metadata": {
  "kernelspec": {
   "display_name": "Python 3 (ipykernel)",
   "language": "python",
   "name": "python3"
  },
  "language_info": {
   "codemirror_mode": {
    "name": "ipython",
    "version": 3
   },
   "file_extension": ".py",
   "mimetype": "text/x-python",
   "name": "python",
   "nbconvert_exporter": "python",
   "pygments_lexer": "ipython3",
   "version": "3.10.0"
  }
 },
 "nbformat": 4,
 "nbformat_minor": 4
}
