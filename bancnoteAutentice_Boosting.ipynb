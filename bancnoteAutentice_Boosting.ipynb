{
 "cells": [
  {
   "cell_type": "markdown",
   "metadata": {},
   "source": [
    "# Boosting"
   ]
  },
  {
   "cell_type": "code",
   "execution_count": 31,
   "metadata": {},
   "outputs": [],
   "source": [
    "# Boosting Algorithms\n",
    "\n",
    "import pandas as pd\n",
    "from sklearn import model_selection\n",
    "from sklearn.ensemble import AdaBoostClassifier\n",
    "from sklearn.ensemble import GradientBoostingClassifier\n",
    "from sklearn.model_selection import *\n",
    "\n",
    "#Incarcare dataset\n",
    "input_file = \"data_banknote_authentication.txt\"\n",
    "data = pd.read_csv(input_file, header = 0)\n",
    "\n",
    "array = data.values\n",
    "X = array[:,0:4]\n",
    "Y = array[:,4]\n",
    "data\n",
    "seed = 7\n",
    "num_trees = 30"
   ]
  },
  {
   "cell_type": "code",
   "execution_count": 32,
   "metadata": {},
   "outputs": [
    {
     "data": {
      "text/plain": [
       "(1370, 4)"
      ]
     },
     "execution_count": 32,
     "metadata": {},
     "output_type": "execute_result"
    }
   ],
   "source": [
    "X.shape"
   ]
  },
  {
   "cell_type": "code",
   "execution_count": 33,
   "metadata": {},
   "outputs": [
    {
     "data": {
      "text/html": [
       "<div>\n",
       "<style scoped>\n",
       "    .dataframe tbody tr th:only-of-type {\n",
       "        vertical-align: middle;\n",
       "    }\n",
       "\n",
       "    .dataframe tbody tr th {\n",
       "        vertical-align: top;\n",
       "    }\n",
       "\n",
       "    .dataframe thead th {\n",
       "        text-align: right;\n",
       "    }\n",
       "</style>\n",
       "<table border=\"1\" class=\"dataframe\">\n",
       "  <thead>\n",
       "    <tr style=\"text-align: right;\">\n",
       "      <th></th>\n",
       "      <th>WaveletVar</th>\n",
       "      <th>WaveletSkew</th>\n",
       "      <th>WaveletKurt</th>\n",
       "      <th>ImgEntropy</th>\n",
       "      <th>Authenticity</th>\n",
       "    </tr>\n",
       "  </thead>\n",
       "  <tbody>\n",
       "    <tr>\n",
       "      <th>0</th>\n",
       "      <td>4.54590</td>\n",
       "      <td>8.1674</td>\n",
       "      <td>-2.45860</td>\n",
       "      <td>-1.46210</td>\n",
       "      <td>0</td>\n",
       "    </tr>\n",
       "    <tr>\n",
       "      <th>1</th>\n",
       "      <td>3.86600</td>\n",
       "      <td>-2.6383</td>\n",
       "      <td>1.92420</td>\n",
       "      <td>0.10645</td>\n",
       "      <td>0</td>\n",
       "    </tr>\n",
       "    <tr>\n",
       "      <th>2</th>\n",
       "      <td>3.45660</td>\n",
       "      <td>9.5228</td>\n",
       "      <td>-4.01120</td>\n",
       "      <td>-3.59440</td>\n",
       "      <td>0</td>\n",
       "    </tr>\n",
       "    <tr>\n",
       "      <th>3</th>\n",
       "      <td>0.32924</td>\n",
       "      <td>-4.4552</td>\n",
       "      <td>4.57180</td>\n",
       "      <td>-0.98880</td>\n",
       "      <td>0</td>\n",
       "    </tr>\n",
       "    <tr>\n",
       "      <th>4</th>\n",
       "      <td>4.36840</td>\n",
       "      <td>9.6718</td>\n",
       "      <td>-3.96060</td>\n",
       "      <td>-3.16250</td>\n",
       "      <td>0</td>\n",
       "    </tr>\n",
       "    <tr>\n",
       "      <th>...</th>\n",
       "      <td>...</td>\n",
       "      <td>...</td>\n",
       "      <td>...</td>\n",
       "      <td>...</td>\n",
       "      <td>...</td>\n",
       "    </tr>\n",
       "    <tr>\n",
       "      <th>1365</th>\n",
       "      <td>-2.41000</td>\n",
       "      <td>3.7433</td>\n",
       "      <td>-0.40215</td>\n",
       "      <td>-1.29530</td>\n",
       "      <td>1</td>\n",
       "    </tr>\n",
       "    <tr>\n",
       "      <th>1366</th>\n",
       "      <td>0.40614</td>\n",
       "      <td>1.3492</td>\n",
       "      <td>-1.45010</td>\n",
       "      <td>-0.55949</td>\n",
       "      <td>1</td>\n",
       "    </tr>\n",
       "    <tr>\n",
       "      <th>1367</th>\n",
       "      <td>-1.38870</td>\n",
       "      <td>-4.8773</td>\n",
       "      <td>6.47740</td>\n",
       "      <td>0.34179</td>\n",
       "      <td>1</td>\n",
       "    </tr>\n",
       "    <tr>\n",
       "      <th>1368</th>\n",
       "      <td>-3.75030</td>\n",
       "      <td>-13.4586</td>\n",
       "      <td>17.59320</td>\n",
       "      <td>-2.77710</td>\n",
       "      <td>1</td>\n",
       "    </tr>\n",
       "    <tr>\n",
       "      <th>1369</th>\n",
       "      <td>-3.56370</td>\n",
       "      <td>-8.3827</td>\n",
       "      <td>12.39300</td>\n",
       "      <td>-1.28230</td>\n",
       "      <td>1</td>\n",
       "    </tr>\n",
       "  </tbody>\n",
       "</table>\n",
       "<p>1370 rows × 5 columns</p>\n",
       "</div>"
      ],
      "text/plain": [
       "      WaveletVar  WaveletSkew  WaveletKurt  ImgEntropy  Authenticity\n",
       "0        4.54590       8.1674     -2.45860    -1.46210             0\n",
       "1        3.86600      -2.6383      1.92420     0.10645             0\n",
       "2        3.45660       9.5228     -4.01120    -3.59440             0\n",
       "3        0.32924      -4.4552      4.57180    -0.98880             0\n",
       "4        4.36840       9.6718     -3.96060    -3.16250             0\n",
       "...          ...          ...          ...         ...           ...\n",
       "1365    -2.41000       3.7433     -0.40215    -1.29530             1\n",
       "1366     0.40614       1.3492     -1.45010    -0.55949             1\n",
       "1367    -1.38870      -4.8773      6.47740     0.34179             1\n",
       "1368    -3.75030     -13.4586     17.59320    -2.77710             1\n",
       "1369    -3.56370      -8.3827     12.39300    -1.28230             1\n",
       "\n",
       "[1370 rows x 5 columns]"
      ]
     },
     "execution_count": 33,
     "metadata": {},
     "output_type": "execute_result"
    }
   ],
   "source": [
    "data"
   ]
  },
  {
   "cell_type": "markdown",
   "metadata": {},
   "source": [
    "#  AdaBoostClassifier"
   ]
  },
  {
   "cell_type": "code",
   "execution_count": 34,
   "metadata": {},
   "outputs": [],
   "source": [
    "kfold2 = model_selection.KFold(n_splits=10, shuffle=True, random_state=seed)"
   ]
  },
  {
   "cell_type": "code",
   "execution_count": 35,
   "metadata": {},
   "outputs": [
    {
     "name": "stdout",
     "output_type": "stream",
     "text": [
      "[0.99270073 0.98540146 0.98540146 1.         0.99270073 1.\n",
      " 0.99270073 1.         1.         1.        ]\n",
      "0.994890510948905\n",
      "0.9956204379562044\n"
     ]
    }
   ],
   "source": [
    "model = c(n_estimators=num_trees, random_state=seed)\n",
    "results = model_selection.cross_val_score(model, X, Y, cv=kfold)\n",
    "results2 = model_selection.cross_val_score(model, X, Y, cv=kfold2)\n",
    "print(results)\n",
    "print(results.mean())\n",
    "print(results2.mean())"
   ]
  },
  {
   "cell_type": "code",
   "execution_count": 36,
   "metadata": {},
   "outputs": [
    {
     "name": "stdout",
     "output_type": "stream",
     "text": [
      "Y_prediction: [1. 1. 1. 0. 0. 0. 0. 1. 1. 1. 0. 0. 1. 0. 0. 0. 1. 1. 0. 0. 1. 0. 0. 1.\n",
      " 0. 0. 0. 0. 0. 0. 1. 0. 1. 0. 0. 0. 0. 1. 0. 1. 1. 1. 0. 0. 1. 1. 0. 0.\n",
      " 1. 0. 0. 1. 0. 1. 1. 0. 1. 0. 0. 1. 1. 0. 0. 0. 0. 1. 1. 1. 1. 0. 1. 0.\n",
      " 1. 1. 0. 1. 0. 0. 0. 0. 1. 0. 0. 0. 1. 1. 0. 0. 0. 0. 0. 1. 1. 1. 1. 1.\n",
      " 0. 0. 1. 0. 0. 1. 0. 0. 0. 1. 0. 1. 1. 1. 0. 1. 0. 0. 0. 0. 0. 0. 1. 1.\n",
      " 0. 0. 0. 1. 1. 1. 1. 0. 1. 0. 0. 0. 1. 0. 0. 1. 0. 0. 0. 0. 1. 0. 0. 1.\n",
      " 0. 0. 1. 0. 0. 1. 0. 0. 1. 0. 1. 0. 0. 0. 1. 0. 0. 1. 0. 1. 0. 1. 1. 0.\n",
      " 1. 1. 0. 0. 1. 1. 1. 0. 0. 0. 1. 1. 0. 1. 0. 0. 0. 1. 1. 1. 1. 0. 0. 0.\n",
      " 1. 0. 1. 0. 0. 0. 1. 1. 0. 0. 0. 0. 0. 0. 0. 0. 1. 0. 1. 1. 1. 0. 0. 1.\n",
      " 1. 0. 0. 1. 0. 1. 0. 0. 0. 1. 1. 0. 0. 0. 0. 0. 1. 0. 1. 1. 0. 0. 1. 1.\n",
      " 0. 1. 1. 0. 1. 0. 1. 0. 0. 0. 0. 0. 1. 1. 1. 1. 0. 1. 1. 1. 0. 0. 0. 1.\n",
      " 0. 0. 1. 1. 1. 1. 0. 0. 1. 0.]\n",
      "Y_test: [1. 1. 1. 0. 0. 0. 0. 1. 1. 1. 0. 0. 1. 0. 0. 0. 1. 1. 0. 0. 1. 0. 0. 1.\n",
      " 0. 0. 0. 0. 0. 0. 1. 0. 1. 0. 0. 0. 0. 1. 0. 1. 1. 1. 0. 0. 1. 1. 0. 0.\n",
      " 1. 0. 0. 1. 0. 1. 1. 0. 1. 0. 0. 1. 1. 0. 0. 0. 0. 1. 1. 1. 1. 0. 1. 0.\n",
      " 1. 1. 0. 1. 0. 0. 0. 0. 1. 0. 0. 0. 1. 1. 0. 0. 0. 0. 0. 1. 1. 1. 1. 1.\n",
      " 0. 0. 1. 0. 0. 1. 0. 0. 0. 1. 0. 1. 1. 1. 0. 1. 0. 0. 0. 0. 0. 0. 1. 1.\n",
      " 0. 0. 0. 1. 1. 1. 1. 0. 1. 0. 0. 0. 1. 0. 0. 1. 0. 0. 0. 0. 1. 0. 0. 1.\n",
      " 0. 0. 1. 0. 0. 1. 0. 0. 1. 0. 1. 0. 0. 0. 1. 0. 0. 1. 0. 1. 0. 1. 1. 0.\n",
      " 1. 1. 0. 0. 1. 1. 1. 0. 0. 0. 1. 1. 0. 1. 0. 0. 0. 1. 1. 1. 1. 0. 0. 0.\n",
      " 1. 0. 1. 0. 0. 0. 1. 1. 0. 0. 0. 0. 0. 0. 0. 0. 1. 0. 1. 1. 1. 0. 0. 1.\n",
      " 1. 0. 0. 1. 0. 1. 0. 0. 0. 1. 1. 0. 0. 0. 0. 0. 1. 0. 1. 1. 0. 0. 1. 1.\n",
      " 0. 1. 1. 0. 1. 0. 1. 0. 0. 0. 0. 0. 1. 1. 1. 1. 0. 1. 1. 1. 0. 0. 0. 1.\n",
      " 0. 0. 1. 1. 1. 1. 0. 0. 1. 0.]\n",
      "Prediction form my given test: [0. 1.]\n",
      "Accuracy: 1.0\n",
      "Confusion matrix is :  [[157   0]\n",
      " [  0 117]]\n",
      "Recall_score is : 1.0\n",
      "Precision Score is :  1.0\n",
      "f1 Score is :  1.0\n"
     ]
    }
   ],
   "source": [
    "#split the dataset: train + test\n",
    "X_train, X_test, Y_train, Y_test = train_test_split(X, Y, test_size = 0.20, random_state = 0)\n",
    "#adaboost = AdaBoostClassifier(n_estimators=100, learning_rate=1)\n",
    "\n",
    "#Fit\n",
    "model.fit(X_train,Y_train)\n",
    "\n",
    "#Predict \n",
    "Y_prediction = model.predict(X_test)\n",
    "print(\"Y_prediction:\",Y_prediction)\n",
    "print(\"Y_test:\",Y_test)\n",
    "\n",
    "#Testare estimator pe 2 exemple concrete\n",
    "my_test= [[3.6216,8.6661,-2.8073,-0.44699],[-2.5419,-0.65804,2.6842,1.1952]]\n",
    "Y_prediction_test= model.predict(my_test)\n",
    "print(\"Prediction form my given test:\",Y_prediction_test)\n",
    "\n",
    "# Testare 5 metrici pentru Clasificare\n",
    "from sklearn import metrics\n",
    "from sklearn.metrics import confusion_matrix\n",
    "from sklearn.metrics import recall_score\n",
    "from sklearn.metrics import precision_score\n",
    "from sklearn.metrics import f1_score\n",
    "\n",
    "\n",
    "print(\"Accuracy:\",metrics.accuracy_score(Y_test, Y_prediction))\n",
    "\n",
    "confusion_mat = confusion_matrix(Y_test, Y_prediction)\n",
    "print(\"Confusion matrix is : \", confusion_mat)\n",
    "\n",
    "recall_show = recall_score(Y_test, Y_prediction) \n",
    "print(\"Recall_score is :\",recall_show)\n",
    "\n",
    "precision_show = precision_score(Y_test, Y_prediction) \n",
    "print(\"Precision Score is : \", precision_show)\n",
    "\n",
    "\n",
    "f1_score = f1_score(Y_test, Y_prediction)\n",
    "print(\"f1 Score is : \",f1_score)\n"
   ]
  },
  {
   "cell_type": "markdown",
   "metadata": {},
   "source": [
    "# Gradient Tree Boosting"
   ]
  },
  {
   "cell_type": "code",
   "execution_count": 37,
   "metadata": {},
   "outputs": [
    {
     "name": "stdout",
     "output_type": "stream",
     "text": [
      "0.994890510948905\n"
     ]
    }
   ],
   "source": [
    "num_trees = 100\n",
    "kfold = model_selection.KFold(n_splits=10)\n",
    "\n",
    "model = GradientBoostingClassifier(n_estimators=num_trees, random_state=seed)\n",
    "results = model_selection.cross_val_score(model, X, Y, cv=kfold)\n",
    "print(results.mean())"
   ]
  },
  {
   "cell_type": "code",
   "execution_count": 38,
   "metadata": {},
   "outputs": [
    {
     "name": "stdout",
     "output_type": "stream",
     "text": [
      "Prediction form my given test: [0. 1.]\n",
      "Prediction: [1. 1. 1. 0. 0. 0. 0. 1. 1. 1. 0. 0. 1. 0. 0. 0. 1. 1. 0. 0. 1. 0. 0. 1.\n",
      " 0. 0. 0. 0. 0. 0. 1. 0. 1. 0. 0. 0. 0. 1. 0. 1. 1. 1. 0. 0. 1. 1. 0. 0.\n",
      " 1. 0. 0. 1. 0. 1. 1. 0. 1. 0. 0. 1. 1. 0. 0. 0. 0. 1. 1. 1. 1. 0. 1. 0.\n",
      " 1. 1. 0. 1. 0. 0. 0. 0. 1. 0. 0. 0. 1. 1. 0. 0. 0. 0. 0. 1. 1. 1. 1. 1.\n",
      " 0. 0. 1. 0. 0. 1. 0. 0. 0. 1. 0. 1. 1. 1. 0. 1. 0. 0. 0. 0. 0. 0. 1. 1.\n",
      " 0. 0. 0. 1. 1. 1. 1. 0. 1. 0. 0. 0. 1. 0. 0. 1. 0. 0. 0. 0. 1. 0. 0. 1.\n",
      " 0. 0. 1. 0. 0. 1. 0. 0. 1. 0. 1. 0. 0. 0. 1. 0. 0. 1. 0. 1. 0. 1. 1. 0.\n",
      " 1. 1. 0. 0. 1. 1. 1. 0. 0. 0. 1. 1. 0. 1. 0. 0. 0. 1. 1. 1. 1. 0. 0. 0.\n",
      " 1. 0. 1. 0. 0. 0. 1. 1. 0. 0. 0. 0. 0. 0. 0. 0. 1. 0. 1. 1. 1. 0. 0. 1.\n",
      " 1. 0. 0. 1. 0. 1. 0. 0. 0. 1. 1. 0. 0. 0. 0. 0. 1. 0. 1. 1. 0. 0. 1. 1.\n",
      " 0. 1. 1. 0. 1. 0. 1. 0. 0. 0. 0. 0. 1. 1. 1. 1. 0. 1. 1. 1. 0. 0. 0. 1.\n",
      " 0. 0. 1. 1. 1. 1. 0. 0. 1. 0.]\n",
      "Accuracy: 1.0\n",
      "Confusion matrix is :  [[157   0]\n",
      " [  0 117]]\n",
      "Recall_score is : 1.0\n",
      "Precision Score is :  1.0\n",
      "f1 Score is :  1.0\n"
     ]
    }
   ],
   "source": [
    "#Impartire dataset: train + test\n",
    "from sklearn.model_selection import train_test_split\n",
    "X_for_train, X_for_test, Y_for_train, Y_for_test = train_test_split(X, Y, test_size = 0.15, random_state = 0)\n",
    "my_test= [[3.6216,8.6661,-2.8073,-0.44699],[-2.5419,-0.65804,2.6842,1.1952]]\n",
    "\n",
    "# Train GradientBoostingClassifier\n",
    "gboost = GradientBoostingClassifier(n_estimators=num_trees,learning_rate=1)\n",
    "gboost.fit(X_for_train, Y_for_train)\n",
    "\n",
    "#Predict \n",
    "Y_prediction = gboost.predict(X_test)\n",
    "# Testare model pe 2 exemple concrete\n",
    "Y_prediction_test= gboost.predict(my_test)\n",
    "\n",
    "print(\"Prediction form my given test:\",Y_prediction_test)\n",
    "print(\"Prediction:\",Y_prediction)\n",
    "\n",
    "# Testare 5 metrici pentru Clasificare\n",
    "from sklearn import metrics\n",
    "from sklearn.metrics import confusion_matrix\n",
    "from sklearn.metrics import recall_score\n",
    "from sklearn.metrics import precision_score\n",
    "from sklearn.metrics import f1_score\n",
    "\n",
    "\n",
    "print(\"Accuracy:\",metrics.accuracy_score(Y_test, Y_prediction))\n",
    "\n",
    "confusion_mat = confusion_matrix(Y_test, Y_prediction)\n",
    "print(\"Confusion matrix is : \", confusion_mat)\n",
    "\n",
    "recall_show = recall_score(Y_test, Y_prediction) \n",
    "print(\"Recall_score is :\",recall_show)\n",
    "\n",
    "precision_show = precision_score(Y_test, Y_prediction) \n",
    "print(\"Precision Score is : \", precision_show)\n",
    "\n",
    "f1_score = f1_score(Y_test, Y_prediction)\n",
    "print(\"f1 Score is : \",f1_score)\n"
   ]
  },
  {
   "cell_type": "markdown",
   "metadata": {},
   "source": [
    "# Vizualizare rezultate cu parametri diferiti"
   ]
  },
  {
   "cell_type": "code",
   "execution_count": 47,
   "metadata": {},
   "outputs": [],
   "source": [
    "#Vizualizare rezultate obtinute cu parametri diferiti\n",
    "range_k = range(1,151,10)\n",
    "scoresA = {}\n",
    "scores_listA = []\n",
    "scoresG = {}\n",
    "scores_listG = []\n",
    "\n",
    "for k in range_k:\n",
    "    ada = AdaBoostClassifier(n_estimators=k, random_state=seed)\n",
    "    gboost = GradientBoostingClassifier(n_estimators=k,learning_rate=1)\n",
    "    \n",
    "    ada.fit(X_train, Y_train)\n",
    "    gboost.fit(X_train, Y_train)\n",
    "    Y_predictionA = ada.predict(X_test)\n",
    "    Y_predictionG = gboost.predict(X_test)\n",
    "    \n",
    "    scoresA[k] = metrics.accuracy_score(Y_test,Y_predictionA)\n",
    "    scores_listA.append(metrics.accuracy_score(Y_test,Y_predictionA))\n",
    "    \n",
    "    scoresG[k] = metrics.accuracy_score(Y_test,Y_predictionG)\n",
    "    scores_listG.append(metrics.accuracy_score(Y_test,Y_predictionG))"
   ]
  },
  {
   "cell_type": "code",
   "execution_count": 48,
   "metadata": {},
   "outputs": [
    {
     "data": {
      "text/plain": [
       "Text(0, 0.5, 'Accuracy')"
      ]
     },
     "execution_count": 48,
     "metadata": {},
     "output_type": "execute_result"
    },
    {
     "data": {
      "image/png": "[encoded data removed]",
      "text/plain": [
       "<Figure size 432x288 with 2 Axes>"
      ]
     },
     "metadata": {
      "needs_background": "light"
     },
     "output_type": "display_data"
    }
   ],
   "source": [
    "%matplotlib inline\n",
    "import matplotlib.pyplot as plt\n",
    "\n",
    "plt.subplot(1, 2, 1)\n",
    "plt.plot(range_k,scores_listA)\n",
    "plt.title(\"AdaBoost\")\n",
    "plt.xlabel(\"Number of estimators\")\n",
    "plt.ylabel(\"Accuracy\")\n",
    "\n",
    "plt.subplot(1, 2, 2)\n",
    "plt.plot(range_k,scores_listG)\n",
    "plt.title(\"GradientBoost\")\n",
    "plt.xlabel(\"Number of estimators\")\n",
    "plt.ylabel(\"Accuracy\")"
   ]
  },
  {
   "cell_type": "markdown",
   "metadata": {},
   "source": [
    "# Comparare rezultate obtinute pentru toti algoritmii prezentati"
   ]
  },
  {
   "cell_type": "markdown",
   "metadata": {},
   "source": [
    "Acuratete maxima"
   ]
  },
  {
   "cell_type": "code",
   "execution_count": 57,
   "metadata": {},
   "outputs": [
    {
     "data": {
      "image/png": "[encoded data removed]",
      "text/plain": [
       "<Figure size 432x288 with 1 Axes>"
      ]
     },
     "metadata": {
      "needs_background": "light"
     },
     "output_type": "display_data"
    }
   ],
   "source": [
    "import numpy as np\n",
    "import matplotlib.pyplot as plt\n",
    " \n",
    "accuracy = [0.9963, 1.0, 0.9975,0.9975, 1.0,1.0]\n",
    "bars = ('DT', 'KNN', 'RandomForest', 'ExtraTrees', 'AdaBoost','GradientBoost')\n",
    "x_pos = np.arange(len(bars))\n",
    "\n",
    "plt.bar(x_pos, accuracy, color=['black', 'red', 'green', 'blue', 'cyan','yellow'])\n",
    "\n",
    "plt.xticks(x_pos, bars,rotation=30)\n",
    "plt.ylabel(\"Accuracy\")\n",
    "plt.ylim((0.99,1))\n",
    "\n",
    "plt.show()"
   ]
  },
  {
   "cell_type": "markdown",
   "metadata": {},
   "source": [
    "Precizie maxima"
   ]
  },
  {
   "cell_type": "code",
   "execution_count": 58,
   "metadata": {},
   "outputs": [
    {
     "data": {
      "image/png": "[encoded data removed]",
      "text/plain": [
       "<Figure size 432x288 with 1 Axes>"
      ]
     },
     "metadata": {
      "needs_background": "light"
     },
     "output_type": "display_data"
    }
   ],
   "source": [
    "import numpy as np\n",
    "import matplotlib.pyplot as plt\n",
    " \n",
    "accuracy = [0.9915, 1.0, 0.9947,1.0, 1.0,1.0]\n",
    "bars = ('DT', 'KNN', 'RandomForest', 'ExtraTrees', 'AdaBoost','GradientBoost')\n",
    "x_pos = np.arange(len(bars))\n",
    "\n",
    "plt.bar(x_pos, accuracy, color=['black', 'red', 'green', 'blue', 'cyan','yellow'])\n",
    "\n",
    "plt.xticks(x_pos, bars,rotation=30)\n",
    "plt.ylabel(\"Precision\")\n",
    "plt.ylim((0.99,1))\n",
    "\n",
    "plt.show()"
   ]
  },
  {
   "cell_type": "markdown",
   "metadata": {},
   "source": [
    "F1 score"
   ]
  },
  {
   "cell_type": "code",
   "execution_count": 59,
   "metadata": {},
   "outputs": [
    {
     "data": {
      "image/png": "[encoded data removed]",
      "text/plain": [
       "<Figure size 432x288 with 1 Axes>"
      ]
     },
     "metadata": {
      "needs_background": "light"
     },
     "output_type": "display_data"
    }
   ],
   "source": [
    "import numpy as np\n",
    "import matplotlib.pyplot as plt\n",
    " \n",
    "accuracy = [0.9957, 1.0, 0.9973,0.9973, 1.0,1.0]\n",
    "bars = ('DT', 'KNN', 'RandomForest', 'ExtraTrees', 'AdaBoost','GradientBoost')\n",
    "x_pos = np.arange(len(bars))\n",
    "\n",
    "plt.bar(x_pos, accuracy, color=['black', 'red', 'green', 'blue', 'cyan','yellow'])\n",
    "\n",
    "plt.xticks(x_pos, bars,rotation=30)\n",
    "plt.ylabel(\"F1Score\")\n",
    "plt.ylim((0.99,1))\n",
    "\n",
    "plt.show()"
   ]
  }
 ],
 "metadata": {
  "kernelspec": {
   "display_name": "Python 3 (ipykernel)",
   "language": "python",
   "name": "python3"
  },
  "language_info": {
   "codemirror_mode": {
    "name": "ipython",
    "version": 3
   },
   "file_extension": ".py",
   "mimetype": "text/x-python",
   "name": "python",
   "nbconvert_exporter": "python",
   "pygments_lexer": "ipython3",
   "version": "3.10.0"
  }
 },
 "nbformat": 4,
 "nbformat_minor": 4
}
